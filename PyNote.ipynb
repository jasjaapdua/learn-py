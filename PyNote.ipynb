{
 "cells": [
  {
   "cell_type": "markdown",
   "metadata": {
    "id": "pM3LcEyaZAqy"
   },
   "source": [
    "# Variables & Data Types\n",
    "\n",
    "# Variables\n",
    "\n",
    "* Variables are references to data in Python.\n",
    "* Variables refer to objects.\n",
    "* Objects in Python are instances of classes (primitive as well as user-defined) and have the following three attributes - ID, type and value.\n",
    "* ID refers, essentially to the memory address of an object.\n",
    "* Type refers to the class of the object\n",
    "* Value is the data the object holds.\n",
    "* When a variable is assigned an initial value, an object is created with said value and the variable \"points\" to it.\n",
    "* If either of the variables is then modified, i.e. assigned a different value, the new assignee points to a new object with the new value and no longer refers to the same object as the original variable.\n"
   ]
  },
  {
   "cell_type": "code",
   "execution_count": null,
   "metadata": {
    "colab": {
     "base_uri": "https://localhost:8080/"
    },
    "id": "_4wBND2fY9iA",
    "outputId": "3ca108e8-3c43-4389-89f1-67a7e3651559"
   },
   "outputs": [
    {
     "name": "stdout",
     "output_type": "stream",
     "text": [
      "True\n",
      "False\n"
     ]
    }
   ],
   "source": [
    "message = \"Hello World\" # New object of string type created, message now points to it\n",
    "alt_message = message # New variable created, but points to the same object in memory. To verify this, use the id() function\n",
    "print(id(message) == id(alt_message))\n",
    "\n",
    "alt_message = \"Goodbye World\" # New object of string type created, alt_message now points to it\n",
    "print(id(message) == id(alt_message))"
   ]
  },
  {
   "cell_type": "markdown",
   "metadata": {},
   "source": [
    "## Python Variable Scope\n",
    "\n",
    "Scope refers to the section of a file where a variable can be accessed. Python supports the following variable scopes - LEGB - local, enclosing, global, built-in.\n",
    "\n",
    "* Local scope applies to variables that are declared inside a function and are only available for use inside the function.\n",
    "\n",
    "* Enclosing scope refers to the fact that nested code blocks can access variables that are available outside of them, but the reverse is not possible.\n",
    "\n",
    "* Global scope refers to variables that are available for use in the whole file.\n",
    "\n",
    "* Built-in scope contains all the keywords that Python has reserved. \n",
    "\n",
    "* Scope is always resolved inside-out. It means that we always look for a variable in the smallest surrounding scope and then check for its availability in a broader scope. \n",
    "\n",
    "* `global` and `nonlocal` keywords can be used to access \"higher\" scope keywords inside a code block"
   ]
  },
  {
   "cell_type": "code",
   "execution_count": 10,
   "metadata": {},
   "outputs": [
    {
     "name": "stdout",
     "output_type": "stream",
     "text": [
      "We are inside outer.\n",
      "1337\n",
      "We are inside inner.\n",
      "outer_num is 5\n",
      "inner_num is 10\n",
      "outer_num is 5\n",
      "outer x\n",
      "outer x\n",
      "outer x\n"
     ]
    }
   ],
   "source": [
    "global_variable = 1337\n",
    "def outer():\n",
    "    print(f\"We are inside outer.\")\n",
    "    outer_num = 5 # a local variable\n",
    "    # global_variable = 2448\n",
    "    print(global_variable)\n",
    "    def inner():\n",
    "        inner_num = 10 # another local variable but only available in inner()\n",
    "        print(f\"We are inside inner.\")\n",
    "        print(f\"outer_num is {outer_num}\")\n",
    "        print(f\"inner_num is {inner_num}\")\n",
    "    inner()\n",
    "    print(f\"outer_num is {outer_num}\")\n",
    "    # print(f\"inner_num is {inner_num}\")\n",
    "outer()\n",
    "\n",
    "\n",
    "x = 'global x'\n",
    "\n",
    "def outer_foo():\n",
    "    global x # now we have access to the global x\n",
    "    x = 'outer x' # so this assignment changes the global x instead of creating a new local variable\n",
    "    def inner_foo():\n",
    "        # x = 'inner_x'\n",
    "        # nonlocal x # now we have access to the x in the outer_foo() function\n",
    "        global x # now we have access to the global x\n",
    "        print(x)\n",
    "    inner_foo()\n",
    "    print(x)\n",
    "outer_foo()\n",
    "print(x)"
   ]
  },
  {
   "cell_type": "markdown",
   "metadata": {
    "id": "TqeGEiBPavoL"
   },
   "source": [
    "## Data Types\n",
    "\n",
    "* Data types supported in Python include-\n",
    "\n",
    "| Type  | Description |\n",
    "| ------|-------------|\n",
    "| `int`   | Representation of integers in Python - whole numbers|\n",
    "| `float` | Represents numeric values with fractional parts |\n",
    "| `str`   | Represents strings - textual data - sequence of characters |\n",
    "| `bool`  | Represents binary values denoting True/False |\n",
    "\n",
    "## Strings\n",
    "\n",
    "* Strings are sequences of characters and are used to store textual information."
   ]
  },
  {
   "cell_type": "code",
   "execution_count": null,
   "metadata": {
    "colab": {
     "base_uri": "https://localhost:8080/"
    },
    "id": "qnN59Eh7yLoR",
    "outputId": "f02402cb-3d3d-46b3-b028-52c442db3db2"
   },
   "outputs": [
    {
     "name": "stdout",
     "output_type": "stream",
     "text": [
      "This is a simple message.\n",
      "This \n",
      "This is a simple message. This is a subsequent message.\n",
      "This is a simple message. This is a subsequent message. P.S. - I forgot to tell you this.\n",
      "this is a lower case message\n",
      "THIS IS AN UPPER CASE MESSAGE\n",
      "2\n",
      "8\n"
     ]
    }
   ],
   "source": [
    "message = \"This is a simple message.\"\n",
    "print(message)\n",
    "print(message[0:5]) # Strings are index-able and slice-able\n",
    "subsequent_message = \"This is a subsequent message.\"\n",
    "print(message + \" \" + subsequent_message)\n",
    "print(message, subsequent_message, sep=\" \", end=\" P.S. - I forgot to tell you this.\\n\")\n",
    "# sep sets the token that the strings are separated with\n",
    "# end sets the token that should be added to the end of the whole string\n",
    "\n",
    "lc_message = \"This is a lower case message\"\n",
    "print(lc_message.lower())\n",
    "\n",
    "uc_message = \"This is an upper case message\"\n",
    "print(uc_message.upper())\n",
    "\n",
    "print(message.count(\"a\")) # returns the number of occurrences of \"a\"\n",
    "print(message.find(\"a\")) # returns the first occurrence of \"a\""
   ]
  },
  {
   "cell_type": "markdown",
   "metadata": {
    "id": "_RNnGyx65DDR"
   },
   "source": [
    "* fstrings in python are relatively new and allow us to embed other objects' values in the string literal."
   ]
  },
  {
   "cell_type": "code",
   "execution_count": null,
   "metadata": {
    "colab": {
     "base_uri": "https://localhost:8080/"
    },
    "id": "rlRaKBdC5LLB",
    "outputId": "e7af86eb-e0ee-428a-f509-c49ca1e8b067",
    "scrolled": true
   },
   "outputs": [
    {
     "name": "stdout",
     "output_type": "stream",
     "text": [
      "Greetings, traveller!\n",
      "The time is 06:05:10\n"
     ]
    }
   ],
   "source": [
    "greeting = \"Greetings\"\n",
    "name = \"traveller\"\n",
    "print(f\"{greeting}, {name}!\")\n",
    "\n",
    "# An example of string formatting for output -\n",
    "\n",
    "hour = 6\n",
    "minute = 5\n",
    "second = 10\n",
    "\n",
    "print(f\"The time is {hour:02}:{minute:02}:{second:02}\")\n",
    "\n",
    "# Here, the 2 denotes that placeholder for hour must be at least\n",
    "# 2 characters wide. We write it as 02 to add leading zeros to make it\n",
    "# 2 chars wide."
   ]
  },
  {
   "cell_type": "markdown",
   "metadata": {},
   "source": [
    "## Advanced String Formatting\n",
    "\n",
    "* Strings can be formatted in many flexible ways"
   ]
  },
  {
   "cell_type": "code",
   "execution_count": 31,
   "metadata": {},
   "outputs": [
    {
     "name": "stdout",
     "output_type": "stream",
     "text": [
      "Hello I am Jimothy and I am 27 years old.\n",
      "Hello I am Jimothy and I am 27 years old.\n",
      "Hey Jimothy, I am Pam and I am 25 years old. Nice to meet you.\n",
      "Hey Jimothy, have you seen Dwight? He's a mess!\n"
     ]
    }
   ],
   "source": [
    "# Using the format() function\n",
    "\n",
    "employee = {\"name\" : \"Jimothy\", \"age\" : 27}\n",
    "sentence = \"Hello I am {} and I am {} years old.\".format(employee[\"name\"], employee[\"age\"])\n",
    "print(sentence)\n",
    "\n",
    "# Alternatively, we can just pass the entire dictionary as a field in the format function and use indices\n",
    "# to access multiple fields from the same object.\n",
    "sentence = \"Hello I am {0[name]} and I am {0[age]} years old.\".format(employee)\n",
    "print(sentence)\n",
    "# Here, the str.format() function expects the key to be a string, so we don't use quotes around it.\n",
    "# If the original dictionary had non-string type keys, we would have had to extract the information manually\n",
    "# like in the earlier example.\n",
    "\n",
    "\n",
    "# Do the same with object attributes. Pass a single attribute to the format() function and access attributes\n",
    "# using the dot(.) operator in the placeholder fields\n",
    "\n",
    "# Using keyword arguments\n",
    "\n",
    "sentence = \"Hey {name}, I am {my_name} and I am {age} years old. Nice to meet you.\".format(name=\"Jimothy\", my_name=\"Pam\", age=\"25\")\n",
    "print(sentence)\n",
    "\n",
    "# Unpacking keyword arguments.\n",
    "\n",
    "sentence = \"Hey {name}, have you seen {co_worker}? He's a mess!\".format(**employee, co_worker=\"Dwight\")\n",
    "print(sentence)"
   ]
  },
  {
   "cell_type": "markdown",
   "metadata": {
    "id": "N4j1KABFyL-z"
   },
   "source": [
    "# Operations in Python\n",
    "\n",
    "## Arithmetic\n",
    "\n",
    "| Symbol | Operation |\n",
    "|--------|-----------|\n",
    "| +      | Addition  |\n",
    "| -      | Subtraction  |\n",
    "| *      | Multiplication  |\n",
    "| /      | Division  |\n",
    "| //      | Integer divison  |\n",
    "| %      | Modulus  |\n",
    "| **      | Exponents  |\n",
    "\n",
    "* Python also has an in-built math library for more complex operations - factorial, combinations, permutations, rounding, trigonometry, etc."
   ]
  },
  {
   "cell_type": "code",
   "execution_count": null,
   "metadata": {
    "colab": {
     "base_uri": "https://localhost:8080/"
    },
    "id": "JQfSIRD5j6SD",
    "outputId": "c7bf6d7c-1f2e-4e70-9b8b-a39c001c37f2"
   },
   "outputs": [
    {
     "name": "stdout",
     "output_type": "stream",
     "text": [
      "120\n",
      "1.0\n"
     ]
    }
   ],
   "source": [
    "import math\n",
    "print(math.factorial(5))\n",
    "print(math.sin(math.pi/2))"
   ]
  },
  {
   "cell_type": "markdown",
   "metadata": {
    "id": "3yUZfElbkIb5"
   },
   "source": [
    "## Logical\n",
    "\n",
    "Python supports the following logical operations -\n",
    "\n",
    "1. `and`\n",
    "2. `or`\n",
    "3. `not`\n",
    "\n",
    "## Comparisons\n",
    "\n",
    "Operations that check the relation between two numbers\n",
    "\n",
    "| Symbol | Description|\n",
    "| -------| -----------|\n",
    "| == | is equal to |\n",
    "| != | is not equal to |\n",
    "| < | is less than |\n",
    "| > | is greater than |\n",
    "| <= | is less than or equal to |\n",
    "| >= | is greater than or equal to |"
   ]
  },
  {
   "cell_type": "code",
   "execution_count": null,
   "metadata": {
    "id": "wpQDcuCvlOfN"
   },
   "outputs": [],
   "source": [
    "operand_1 = 5\n",
    "operand_2 = 5\n",
    "operand_3 = 10\n",
    "\n",
    "# combine operations to build complex expressions that evaluate to True/False\n",
    "# using logical operators\n",
    "\n",
    "print(operand_1 == operand_2 and operand_1 != operand_3)"
   ]
  },
  {
   "cell_type": "markdown",
   "metadata": {
    "id": "WTU-D5Ke-K3w"
   },
   "source": [
    "## Identity Operators\n",
    "\n",
    "* `x is y` - returns `True` if x and y are the same object (i.e. references to the same object in memory)\n",
    "\n",
    "* `x is not y` - Inverse of above operator.\n",
    "\n",
    "* After some testing - it appears that if x and y are equal and are both small enough, they will initially return `True` when we try `x is y` but when x and y are sufficiently large and equal, it appears that they return `False` - why is this?"
   ]
  },
  {
   "cell_type": "code",
   "execution_count": null,
   "metadata": {
    "colab": {
     "base_uri": "https://localhost:8080/"
    },
    "id": "c2VQhoJx-ayf",
    "outputId": "c3e21688-bcf8-4f87-c588-a1a1ceab73e2"
   },
   "outputs": [
    {
     "name": "stdout",
     "output_type": "stream",
     "text": [
      "False\n",
      "True\n",
      "True\n",
      "True\n"
     ]
    }
   ],
   "source": [
    "x = 350\n",
    "y = 350\n",
    "print(x is y) # Should print False\n",
    "\n",
    "y = x\n",
    "print(x is y) # Should print True\n",
    "\n",
    "\n",
    "x = 10\n",
    "y = 10\n",
    "print(x is y) # Should print False\n",
    "\n",
    "y = x\n",
    "print(x is y) # Should print True"
   ]
  },
  {
   "cell_type": "markdown",
   "metadata": {
    "id": "d1XOof4z_u9y"
   },
   "source": [
    "## Membership Operator\n",
    "\n",
    "`x in y` - used to check if some data is in a container\n",
    "`x not in y` - Inverse of above operator"
   ]
  },
  {
   "cell_type": "code",
   "execution_count": null,
   "metadata": {
    "colab": {
     "base_uri": "https://localhost:8080/"
    },
    "id": "DiqA0vPqAAqL",
    "outputId": "7cbf5c0f-88cf-4331-915f-4dba5d108d7a"
   },
   "outputs": [
    {
     "name": "stdout",
     "output_type": "stream",
     "text": [
      "True\n",
      "True\n"
     ]
    }
   ],
   "source": [
    "nums = [1, 2, 3, 4, 5]\n",
    "print(1 in nums)\n",
    "print(10 not in nums)"
   ]
  },
  {
   "cell_type": "markdown",
   "metadata": {
    "id": "AXhNhwJQ6Oxi"
   },
   "source": [
    "# Control Flow\n",
    "\n",
    "## Decision making\n",
    "\n",
    "* Conditionals are implemented in the form of `if-else-elif` blocks\n",
    "\n"
   ]
  },
  {
   "cell_type": "code",
   "execution_count": null,
   "metadata": {
    "colab": {
     "base_uri": "https://localhost:8080/"
    },
    "id": "VfrKrc3-6Z6K",
    "outputId": "a22489b7-7bc7-4e3a-e7a5-3f68a6f1f166"
   },
   "outputs": [
    {
     "name": "stdout",
     "output_type": "stream",
     "text": [
      "a is less than b\n"
     ]
    }
   ],
   "source": [
    "a = 10\n",
    "b = 20\n",
    "if a > b:\n",
    "  print(\"a is greater than b\")\n",
    "elif a < b:\n",
    "  print(\"a is less than b\")\n",
    "else:\n",
    "  print(\"a is equal to b\")"
   ]
  },
  {
   "cell_type": "markdown",
   "metadata": {
    "id": "NHc-YKt16mZ1"
   },
   "source": [
    "* Python does not have switch-case statements. Instead, we can use if-elif-else blocks to implement switch-case."
   ]
  },
  {
   "cell_type": "markdown",
   "metadata": {
    "id": "HSG04R_97J8l"
   },
   "source": [
    "## Loops\n",
    "\n",
    "Loops are used to implement iteration over a range or while a certain condition holds true.\n",
    "\n",
    "### `while` loop\n",
    "\n",
    "While loops are used to repeatedly execute a set of instructions until a condition remains true\n",
    "\n",
    "### `for` loop\n",
    "\n",
    "For loops are used to iterate through sequentially arranged data\n",
    "\n",
    "### `break` and `continue`\n",
    "\n",
    "`break` and `continue` alter the execution of loops\n",
    "\n",
    "* `break` exits the immediate loop\n",
    "* `continue` ignores all subsequent instructions of the loop and goes to the next iteration.\n",
    "\n",
    "### `loop-else`\n",
    "\n",
    "`loop-else` statement is used to execute a block of code in case a loop does not terminate using a `break` statement but terminates normally.\n",
    "\n",
    "**NOTE - IF WE BREAK, ELSE IS NOT EXECUTED.**\n",
    "\n",
    "### `pass` statement\n",
    "\n",
    "`pass` is used to forego the definition of a function or a loop. It allows for a function to remain undefined but declared."
   ]
  },
  {
   "cell_type": "code",
   "execution_count": null,
   "metadata": {
    "colab": {
     "base_uri": "https://localhost:8080/"
    },
    "id": "4L3A27d48q_J",
    "outputId": "aceab14f-9465-4e20-8491-9f2b678ba7c9",
    "scrolled": true
   },
   "outputs": [
    {
     "name": "stdout",
     "output_type": "stream",
     "text": [
      "10\n",
      "20\n",
      "40\n",
      "80\n",
      "1\n",
      "2\n",
      "3\n",
      "4\n",
      "5\n",
      "6\n",
      "7\n",
      "8\n",
      "9\n",
      "10\n",
      "0 1\n",
      "1 2\n",
      "2 3\n",
      "3 4\n",
      "4 5\n",
      "5 6\n",
      "6 7\n",
      "7 8\n",
      "8 9\n",
      "9 10\n",
      "10\n",
      "9\n",
      "8\n",
      "7\n",
      "6\n",
      "5\n",
      "4\n",
      "3\n",
      "2\n",
      "1\n"
     ]
    }
   ],
   "source": [
    "a = 5\n",
    "while a < 50:\n",
    "  a = a * 2\n",
    "  print(a)\n",
    "\n",
    "# Iterating over the elements of a list\n",
    "numbers = [1, 2, 3, 4, 5, 6, 7, 8, 9, 10]\n",
    "for number in numbers:\n",
    "  print(number)\n",
    "\n",
    "# An example of enumerate()\n",
    "for idx, n in enumerate(numbers):\n",
    "  print(idx, n)\n",
    "\n",
    "# range-based for loop - range(start, end, step size)\n",
    "for i in range(10, 0, -1):\n",
    "  print(i)\n",
    "\n",
    "for number in numbers:\n",
    "  if number > 5:\n",
    "    break\n",
    "else:\n",
    "  print(\"All numbers are greater than 5.\")\n",
    "\n",
    "\n",
    "for number in numbers:\n",
    "  # For later implementation - do something here\n",
    "  pass"
   ]
  },
  {
   "cell_type": "markdown",
   "metadata": {
    "id": "eokuKpo0lepy"
   },
   "source": [
    "# Containers\n",
    "\n",
    "* Containers are objects in Python that can store or \"group\" other objects.\n",
    "\n",
    "* There are four commonly used containers - lists, tuples, dictionaries and sets.\n",
    "\n",
    "## Lists\n",
    "\n",
    "* Lists are containers (think - dynamic arrays) that can store other objects inside them.\n",
    "\n",
    "* They are mutable - they can be modifed using list functions.\n",
    "\n",
    "* They are stored sequentially in memory, and so can be indexed.\n",
    "\n",
    "* Lists support \"slicing\" - using : to \"extract\" or \"separate\" subsequences from the data.\n",
    "\n",
    "* Data can be accessed in reverse order using negative indices"
   ]
  },
  {
   "cell_type": "code",
   "execution_count": null,
   "metadata": {
    "colab": {
     "base_uri": "https://localhost:8080/"
    },
    "id": "6nrkUHXusqOy",
    "outputId": "f6fd78ec-a244-4378-ebdc-37e0b95379eb"
   },
   "outputs": [
    {
     "name": "stdout",
     "output_type": "stream",
     "text": [
      "1\n",
      "2\n",
      "[10, 2, 3, 4, 5, 6, 7, 8, 9, 10]\n",
      "[10, 2, 3, 4, 5, 6, 7, 8, 9, 10, 11]\n",
      "[10, 2, 3, 4, 5, 6, 7, 8, 9, 10]\n",
      "[6, 8]\n"
     ]
    }
   ],
   "source": [
    "numbers = [1, 2, 3, 4, 5, 6, 7, 8, 9, 10] # Declaring a list\n",
    "# indices  0  1  2  3  4  5  6  7  8   9\n",
    "# neg ind -10 -9 -8 -7 -6 -5 -4 -3 -2 -1\n",
    "print(numbers[0]) # Printing the first element of the list\n",
    "print(numbers[1]) # Printing the second element of the list\n",
    "\n",
    "numbers[0] = 10 # Modifying the first element of the list\n",
    "print(numbers)\n",
    "\n",
    "numbers.append(11) # Adding an element to the end of the list\n",
    "print(numbers)\n",
    "\n",
    "numbers.pop() # Removes the last element of the list\n",
    "print(numbers)\n",
    "\n",
    "# numbers[start:end:step] - from index start to (end-1), taking steps of size step\n",
    "print(numbers[5:8:2])\n",
    "# absence of start means start from the beginning\n",
    "# absence of end means till the end\n",
    "# absence of step implies step size of 1\n"
   ]
  },
  {
   "cell_type": "markdown",
   "metadata": {
    "id": "A7llpIxqtFBL"
   },
   "source": [
    "## Tuples\n",
    "\n",
    "* Tuples, like lists are sequentially stored data that can be indexed, but are immutable, i.e. - after creation, cannot be modified."
   ]
  },
  {
   "cell_type": "code",
   "execution_count": null,
   "metadata": {
    "colab": {
     "base_uri": "https://localhost:8080/",
     "height": 211
    },
    "id": "URoYFD9MtvOg",
    "outputId": "2fde1572-1a11-48e6-c246-7d054baaac22"
   },
   "outputs": [
    {
     "name": "stdout",
     "output_type": "stream",
     "text": [
      "(1, 2, 3, 4, 5)\n",
      "1\n"
     ]
    },
    {
     "ename": "TypeError",
     "evalue": "'tuple' object does not support item assignment",
     "output_type": "error",
     "traceback": [
      "\u001b[0;31m---------------------------------------------------------------------------\u001b[0m",
      "\u001b[0;31mTypeError\u001b[0m                                 Traceback (most recent call last)",
      "\u001b[0;32m<ipython-input-9-30cfd15d3273>\u001b[0m in \u001b[0;36m<cell line: 4>\u001b[0;34m()\u001b[0m\n\u001b[1;32m      2\u001b[0m \u001b[0mprint\u001b[0m\u001b[0;34m(\u001b[0m\u001b[0mnumbers\u001b[0m\u001b[0;34m)\u001b[0m\u001b[0;34m\u001b[0m\u001b[0;34m\u001b[0m\u001b[0m\n\u001b[1;32m      3\u001b[0m \u001b[0mprint\u001b[0m\u001b[0;34m(\u001b[0m\u001b[0mnumbers\u001b[0m\u001b[0;34m[\u001b[0m\u001b[0;36m0\u001b[0m\u001b[0;34m]\u001b[0m\u001b[0;34m)\u001b[0m\u001b[0;34m\u001b[0m\u001b[0;34m\u001b[0m\u001b[0m\n\u001b[0;32m----> 4\u001b[0;31m \u001b[0mnumbers\u001b[0m\u001b[0;34m[\u001b[0m\u001b[0;36m2\u001b[0m\u001b[0;34m]\u001b[0m \u001b[0;34m=\u001b[0m \u001b[0;36m10\u001b[0m \u001b[0;31m# Should throw and error because we are trying to modify a tuple\u001b[0m\u001b[0;34m\u001b[0m\u001b[0;34m\u001b[0m\u001b[0m\n\u001b[0m",
      "\u001b[0;31mTypeError\u001b[0m: 'tuple' object does not support item assignment"
     ]
    }
   ],
   "source": [
    "numbers = (1, 2, 3, 4, 5)\n",
    "print(numbers)\n",
    "print(numbers[0])\n",
    "numbers[2] = 10 # Should throw and error because we are trying to modify a tuple"
   ]
  },
  {
   "cell_type": "markdown",
   "metadata": {
    "id": "tlpd5Teft_fX"
   },
   "source": [
    "## Dictionaries\n",
    "\n",
    "* Dictionaries are Python's implementation of hash tables. Data in dictionaries are stored in the form of `(key, value)` pairs.\n",
    "\n",
    "* All keys in dictionaries are required to be unique and immutable.\n",
    "\n",
    "* Values in dictionaries can be indexed using their corresponding associated keys."
   ]
  },
  {
   "cell_type": "code",
   "execution_count": null,
   "metadata": {
    "colab": {
     "base_uri": "https://localhost:8080/"
    },
    "id": "uZeimWact_Ms",
    "outputId": "eeed6bfb-9d0d-4452-9e99-4d54db4d42fb"
   },
   "outputs": [
    {
     "name": "stdout",
     "output_type": "stream",
     "text": [
      "{'name': 'John Smith', 'age': 25, 'designation': 'Intern'}\n",
      "{'name': 'John Smith', 'age': 25, 'designation': 'Intern', 'hobbies': 'Climbing'}\n",
      "{'name': 'John Smith', 'age': 25, 'designation': 'Intern'}\n",
      "None\n",
      "dict_keys(['name', 'age', 'designation'])\n",
      "dict_values(['John Smith', 25, 'Intern'])\n"
     ]
    }
   ],
   "source": [
    "person = {\n",
    "    'name' : 'John Smith',\n",
    "    'age' : 25,\n",
    "    'designation' : 'Intern'\n",
    "}\n",
    "\n",
    "print(person)\n",
    "# Add a key value pair\n",
    "person[\"hobbies\"] = \"Climbing\"\n",
    "print(person)\n",
    "# Remmove a key-value pair\n",
    "person.pop(\"hobbies\")\n",
    "print(person)\n",
    "# Check the presence of a key using get()\n",
    "print(person.get(\"specialty\")) # should return None because this key does not exist in the dictionary\n",
    "# Access a list of all keys\n",
    "print(person.keys())\n",
    "# Access a list of all values\n",
    "print(person.values())"
   ]
  },
  {
   "cell_type": "markdown",
   "metadata": {
    "id": "E-AAKEFK3NZd"
   },
   "source": [
    "## Sets\n",
    "\n",
    "* Sets are like mathematical sets.\n",
    "\n",
    "* Collection of unique elements.\n",
    "\n",
    "* Can be used to perform set operations like `union`, `intersection`, `difference`, etc."
   ]
  },
  {
   "cell_type": "code",
   "execution_count": null,
   "metadata": {
    "colab": {
     "base_uri": "https://localhost:8080/"
    },
    "id": "dc1x7u0p3Z1W",
    "outputId": "66efd8c7-ae74-4507-be60-91dc4a44f029"
   },
   "outputs": [
    {
     "name": "stdout",
     "output_type": "stream",
     "text": [
      "{1, 2, 3, 4, 5, 6, 7, 8, 9, 10}\n",
      "{1, 2, 3, 4, 5, 6, 7, 8, 9, 10, 11}\n",
      "{1, 2, 3, 4, 5, 6, 7, 8, 9, 10}\n",
      "{1, 2, 3, 4, 5, 6, 7, 8}\n",
      "{4, 5}\n",
      "{1, 2, 3}\n"
     ]
    }
   ],
   "source": [
    "numbers = {1, 2, 3, 4, 5, 6, 7, 8, 9, 10}\n",
    "print(numbers)\n",
    "\n",
    "# Adding a number\n",
    "numbers.add(11)\n",
    "print(numbers)\n",
    "\n",
    "# Adding a duplicate\n",
    "numbers.add(11)\n",
    "\n",
    "# Removing a number\n",
    "numbers.remove(11)\n",
    "print(numbers)\n",
    "\n",
    "A = {1, 2, 3, 4, 5}\n",
    "B = {4, 5, 6, 7, 8}\n",
    "\n",
    "# Union\n",
    "print(A.union(B))\n",
    "# Intersection\n",
    "print(A.intersection(B))\n",
    "# Difference - Present in A, absent in B\n",
    "print(A.difference(B))"
   ]
  },
  {
   "cell_type": "markdown",
   "metadata": {},
   "source": [
    "## Comprehension\n",
    "\n",
    "* Comprehension is used when we need to make a new container containing elements based off of an already existing container and its elements."
   ]
  },
  {
   "cell_type": "code",
   "execution_count": 3,
   "metadata": {},
   "outputs": [
    {
     "name": "stdout",
     "output_type": "stream",
     "text": [
      "[1, 2, 3, 4, 5, 6, 7, 8, 9, 10]\n",
      "[2, 4, 6, 8, 10, 12, 14, 16, 18, 20]\n",
      "[1, 4, 9, 16, 25, 36, 49, 64, 81, 100]\n",
      "[2, 4, 6, 8, 10]\n",
      "{('Flash', 'Barry Allen'), ('Batman', 'Bruce Wayne'), ('Arrow', 'Oliver Queen'), ('Superman', 'Clark Kent')}\n"
     ]
    }
   ],
   "source": [
    "nums = [n for n in range(1, 11, 1)]\n",
    "print(nums)\n",
    "\n",
    "twice_nums = [2 * n for n in nums]\n",
    "print(twice_nums)\n",
    "\n",
    "square_nums = [n*n for n in nums]\n",
    "print(square_nums)\n",
    "\n",
    "# Incorporating conditionals with comprehension\n",
    "\n",
    "even_nums = [n for n in nums if n % 2 == 0]\n",
    "print(even_nums)\n",
    "\n",
    "# Using comprehension with dictionaries\n",
    "\n",
    "super_name = [\"Batman\", \"Superman\", \"Aquaman\", \"Flash\", \"Arrow\"]\n",
    "real_name = [\"Bruce Wayne\", \"Clark Kent\", \"Arthur Curry\", \"Barry Allen\", \"Oliver Queen\"]\n",
    "\n",
    "superhero_lookup = {(s_name, r_name) for s_name, r_name in zip(super_name, real_name) if r_name != \"Arthur Curry\"}\n",
    "print(superhero_lookup)"
   ]
  },
  {
   "cell_type": "markdown",
   "metadata": {},
   "source": [
    "## Sorting\n",
    "\n",
    "* Container elements can be sorted using the `sort()` function as well as the `sorted()` function.\n",
    "\n",
    "* `sort()` sorts the elements of a list in-place. It ONLY works on lists.\n",
    "\n",
    "* `sorted()` returns a sorted version of the container. It works on all containers.\n",
    "\n",
    "* When used with a dictionary, `sorted()` sorts the keys.\n",
    "\n",
    "* We can also sort using custom criteria using a `key` parameter."
   ]
  },
  {
   "cell_type": "code",
   "execution_count": 22,
   "metadata": {},
   "outputs": [
    {
     "name": "stdout",
     "output_type": "stream",
     "text": [
      "nums are = [9, -6, 8, 2, 5, -17, 55]\n",
      "sorted nums are = [-17, -6, 2, 5, 8, 9, 55]\n",
      "sorted by absolute value = [2, 5, -6, 8, 9, -17, 55]\n",
      "[(Jane, 35, $50000.00), (John, 23, $60000.00), (Jen, 44, $70000.00)]\n",
      "[(Jane, 35, $50000.00), (John, 23, $60000.00), (Jen, 44, $70000.00)]\n"
     ]
    }
   ],
   "source": [
    "nums = [9, -6, 8, 2, 5, -17, 55]\n",
    "sorted_nums = sorted(nums)\n",
    "print(\"nums are =\", nums)\n",
    "print(\"sorted nums are =\", sorted_nums)\n",
    "\n",
    "# Custom sorting\n",
    "# sorting by absolute value\n",
    "sorted_nums = sorted(nums, key=abs)\n",
    "print(\"sorted by absolute value =\", sorted_nums)\n",
    "\n",
    "# In case of user-defined classes\n",
    "\n",
    "class Employee:\n",
    "    def __init__(self, name, age, salary):\n",
    "        self.name = name\n",
    "        self.age = age\n",
    "        self.salary = salary\n",
    "    def __repr__(self):\n",
    "#         return '({}, {}, ${})'.format(self.name, self.age, self.salary)\n",
    "        return (f\"({self.name}, {self.age}, ${self.salary:.2f})\")\n",
    "\n",
    "e1 = Employee(\"Jane\", 35, 50000)\n",
    "e2 = Employee(\"John\", 23, 60000)\n",
    "e3 = Employee(\"Jen\", 44, 70000)\n",
    "\n",
    "# define a function to use as key for sorting.\n",
    "def e_sort(emp):\n",
    "    # just return the attribute that we need to act as key for sorting\n",
    "    return emp.salary\n",
    "\n",
    "employees = [e1, e2, e3]\n",
    "sorted_employees = sorted(employees, key=e_sort)\n",
    "print(employees)\n",
    "print(sorted_employees)"
   ]
  },
  {
   "cell_type": "markdown",
   "metadata": {
    "id": "xVfHU4ac4Jzg"
   },
   "source": [
    "# Input/Output\n",
    "\n",
    "* We have already seen output in Python to standard output using the `print()` function.\n",
    "\n",
    "* Python can read input from standard input using the `input(`) function but always reads as string. Data must be cast to preferred data type to perform arithmetic operations on it."
   ]
  },
  {
   "cell_type": "code",
   "execution_count": 4,
   "metadata": {
    "colab": {
     "base_uri": "https://localhost:8080/"
    },
    "id": "Uq5Mx54y4csk",
    "outputId": "dba84789-bdb0-4b13-fa68-ce3262460dd2"
   },
   "outputs": [
    {
     "name": "stdout",
     "output_type": "stream",
     "text": [
      "Enter the first operand: 5\n",
      "Enter the second operand: 10\n",
      "Concatenated version =  510\n",
      "Numerical addition =  15\n"
     ]
    }
   ],
   "source": [
    "operand_1 = input(\"Enter the first operand: \")\n",
    "operand_2 = input(\"Enter the second operand: \")\n",
    "print(\"Concatenated version = \", operand_1 + operand_2) # will print a concatenated version of the two input strings\n",
    "\n",
    "print(\"Numerical addition = \", int(operand_1) + int(operand_2)) # will print the sum of the two input integers"
   ]
  },
  {
   "cell_type": "markdown",
   "metadata": {},
   "source": [
    "## Reading/Writing to Files\n",
    "\n",
    "* Files can be read from or written to in Python."
   ]
  },
  {
   "cell_type": "code",
   "execution_count": 1,
   "metadata": {},
   "outputs": [],
   "source": [
    "# Using file objects\n",
    "\n",
    "f = open('random.txt', 'r') # open a file called random.txt to read from. If access mode is not specified, default is read\n",
    "f.close() # Must always close a file after it's used\n",
    "\n",
    "# Using context manager\n",
    "\n",
    "with open('random.txt', 'r') as f: # at the end of this block, Python automatically closes the file for you\n",
    "    file_contents = f.readline() # reads a line. continues to read subsequent lines upon subsequent calls.\n",
    "    file_contents = f.readlines() # reads all lines, places them in a list with each line as a different element\n",
    "    file_contents = f.read() # reads everything from a file and puts it in the variable file_contents.\n",
    "    # read() may take an argument n = number of bytes to read from the file. \n",
    "    \n",
    "    for line in f: # This iterates over the lines in the file and prints them out one by one.\n",
    "        # We don't store it in memory at all.\n",
    "        print(line, end=' ') "
   ]
  },
  {
   "cell_type": "markdown",
   "metadata": {},
   "source": [
    "## Exception Handling\n",
    "\n",
    "* Used to handle errors instead of the program crashing.\n"
   ]
  },
  {
   "cell_type": "code",
   "execution_count": 10,
   "metadata": {},
   "outputs": [
    {
     "name": "stdout",
     "output_type": "stream",
     "text": [
      "This file does not exist.\n"
     ]
    }
   ],
   "source": [
    "try:\n",
    "    f = open('random.txt', 'r')\n",
    "    var = bad_var\n",
    "except NameError:\n",
    "    print('This file does not exist.')"
   ]
  },
  {
   "cell_type": "markdown",
   "metadata": {},
   "source": [
    "The `except` block must contain the specific exception that you're expecting to get from the code in the `try` block. For example, "
   ]
  },
  {
   "cell_type": "code",
   "execution_count": 12,
   "metadata": {},
   "outputs": [
    {
     "name": "stdout",
     "output_type": "stream",
     "text": [
      "This file does not exist.\n"
     ]
    }
   ],
   "source": [
    "try:\n",
    "    f = open('rando.txt', 'r')\n",
    "    var = bad_var\n",
    "except FileNotFoundError:\n",
    "    print('This file does not exist.')\n",
    "except NameError as e:  # Can also print the exception itself instead of a custom message.\n",
    "    print(e)\n",
    "except Exception:\n",
    "    print('Sorry. Something went wrong.')"
   ]
  },
  {
   "cell_type": "markdown",
   "metadata": {},
   "source": [
    "Always remember to start with more specific exceptions and then the generic ones.\n",
    "\n",
    "We can also use the `else` block to execute code in case no exception is thrown."
   ]
  },
  {
   "cell_type": "code",
   "execution_count": 13,
   "metadata": {},
   "outputs": [
    {
     "name": "stdout",
     "output_type": "stream",
     "text": [
      "Hello World\n",
      "\n"
     ]
    }
   ],
   "source": [
    "try:\n",
    "    f = open('random.txt', 'r')\n",
    "    # var = bad_var\n",
    "except FileNotFoundError:\n",
    "    print('This file does not exist.')\n",
    "except NameError as e:  # Can also print the exception itself instead of a custom message.\n",
    "    print(e)\n",
    "except Exception:\n",
    "    print('Sorry. Something went wrong.')\n",
    "else:\n",
    "    print(f.read())\n",
    "    f.close()"
   ]
  },
  {
   "cell_type": "markdown",
   "metadata": {},
   "source": [
    "Use the `finally` block at the end to run code that should be executed no matter what happens. "
   ]
  },
  {
   "cell_type": "code",
   "execution_count": 15,
   "metadata": {},
   "outputs": [
    {
     "name": "stdout",
     "output_type": "stream",
     "text": [
      "name 'bad_var' is not defined\n",
      "In finally now.\n"
     ]
    }
   ],
   "source": [
    "try:\n",
    "    f = open('random.txt', 'r')\n",
    "    var = bad_var\n",
    "except FileNotFoundError:\n",
    "    print('This file does not exist.')\n",
    "except NameError as e:  # Can also print the exception itself instead of a custom message.\n",
    "    print(e)\n",
    "except Exception:\n",
    "    print('Sorry. Something went wrong.')\n",
    "else:\n",
    "    print(f.read())\n",
    "    f.close()\n",
    "finally:\n",
    "    print(\"In finally now.\")"
   ]
  },
  {
   "cell_type": "markdown",
   "metadata": {},
   "source": [
    "It is also possible to raise custom exceptions."
   ]
  },
  {
   "cell_type": "code",
   "execution_count": 16,
   "metadata": {},
   "outputs": [
    {
     "name": "stdout",
     "output_type": "stream",
     "text": [
      "Sorry. Something went wrong.\n",
      "In finally now!\n"
     ]
    }
   ],
   "source": [
    "try:\n",
    "    file_name = 'currupt_file.txt'\n",
    "    f = open(file_name, 'r')\n",
    "    # var = bad_var\n",
    "    \n",
    "    if f.name == 'currupt_file.txt':\n",
    "        raise Exception\n",
    "    \n",
    "except FileNotFoundError:\n",
    "    print('This file does not exist.')\n",
    "except NameError as e:  # Can also print the exception itself instead of a custom message.\n",
    "    print(e)\n",
    "except Exception as e:\n",
    "    print('Sorry. Something went wrong.')\n",
    "else:\n",
    "    print(f.read())\n",
    "    f.close()\n",
    "finally:\n",
    "    print(\"In finally now!\")"
   ]
  },
  {
   "cell_type": "markdown",
   "metadata": {
    "id": "tV8ObQ2m9Lwt"
   },
   "source": [
    "# Functions\n",
    "\n",
    "Functions are modular pieces of code that perform a certain (fairly simple) task. They promote reusability of code because a function once defined can be used multiple times.\n",
    "\n",
    "* Functions have parameters - information that is \"passed to them\" when they are called. These parameters may or may not help functions do the \"task\" they're supposed to perform.\n",
    "\n",
    "* Functions may or may not have a return type - Functions may return one or more values when they finish executing. The value returned is often the result of some computation performed in the function.\n",
    "\n",
    "## Positional Arguments\n",
    "\n",
    "Information passed to a function where the order of the arguments must match the order of the parameters."
   ]
  },
  {
   "cell_type": "code",
   "execution_count": null,
   "metadata": {
    "id": "izvwPfXfIP9K"
   },
   "outputs": [],
   "source": [
    "# Write a function to compute the area of a triangle, given three of its sides\n",
    "\n",
    "def triangle_area(a, b, c) -> float: # Parameters are written in parentheses.\n",
    "                                    # The (expected) return type is float, denoted by the arrow and float\n",
    "  if a + b < c \\\n",
    "    or a + c < b \\\n",
    "    or b + c < a:\n",
    "    print(\"Invalid triangle\")\n",
    "    return\n",
    "\n",
    "  s = (a + b + c) / 2\n",
    "  area = (s * (s - a) * (s - b) * (s - c)) ** 0.5\n",
    "  return area # return statement is used to transfer the control over to the calling function/statement.\n",
    "\n",
    "# The following is a function with a default argument. In case no argument is\n",
    "# passed when calling this function, the default specified value is used.\n",
    "# Default/optional arguments always appear at the end of the list.\n",
    "def print_message(message=\"Random message\"):\n",
    "  print(message)"
   ]
  },
  {
   "cell_type": "markdown",
   "metadata": {
    "id": "uJOu8qITI4ej"
   },
   "source": [
    "## Arbitrary arguments `*args`\n",
    "\n",
    "If you don't know how many arguments to expect when called, a function can be defined using arbitrary arguments. In this case, the arguments are present inside the function in the form of a tuple.\n",
    "\n",
    "```python\n",
    "def my_function(*shop_list):\n",
    "  print(f\"I need to buy {shop_lisst}\")\n",
    "\n",
    "my_function(\"apples\", \"doctors\", \"stethoscopes\")\n",
    "```"
   ]
  },
  {
   "cell_type": "code",
   "execution_count": null,
   "metadata": {
    "colab": {
     "base_uri": "https://localhost:8080/"
    },
    "id": "CKhIIA9hVGMG",
    "outputId": "6f453c3d-4e24-4a4b-c0c3-477d34b2ca7c"
   },
   "outputs": [
    {
     "name": "stdout",
     "output_type": "stream",
     "text": [
      "I need to buy ('apples', 'doctors', 'stethoscopes')\n"
     ]
    }
   ],
   "source": [
    "def my_function(*shop_list):\n",
    "  print(f\"I need to buy {shop_list}\")\n",
    "\n",
    "my_function(\"apples\", \"doctors\", \"stethoscopes\")"
   ]
  },
  {
   "cell_type": "markdown",
   "metadata": {
    "id": "yhYovictVc4B"
   },
   "source": [
    "## Keyword Arguments\n",
    "\n",
    "Arguments when passed to functions using the syntax `key = value`. This way, the order in which arguments are passed does not matter.\n"
   ]
  },
  {
   "cell_type": "code",
   "execution_count": null,
   "metadata": {
    "colab": {
     "base_uri": "https://localhost:8080/"
    },
    "id": "0D0SAEZPVcJG",
    "outputId": "5fca4a5d-088e-413d-a2ff-ae9382c5e165"
   },
   "outputs": [
    {
     "name": "stdout",
     "output_type": "stream",
     "text": [
      "6.0\n",
      "6.0\n",
      "6.0\n"
     ]
    }
   ],
   "source": [
    "def triangle_area(a, b, c) -> float: # Parameters are written in parentheses.\n",
    "                                    # The (expected) return type is float, denoted by the arrow and float\n",
    "  if a + b < c \\\n",
    "    or a + c < b \\\n",
    "    or b + c < a:\n",
    "    print(\"Invalid triangle\")\n",
    "    return\n",
    "\n",
    "  s = (a + b + c) / 2\n",
    "  area = (s * (s - a) * (s - b) * (s - c)) ** 0.5\n",
    "  return area # return statement is used to transfer the control over to the calling function/statement.\n",
    "\n",
    "# The following function calls all produce the same result:\n",
    "print(triangle_area(3, 4, 5))\n",
    "print(triangle_area(a=3, b=4, c=5))\n",
    "print(triangle_area(c=5, a=3, b=4))"
   ]
  },
  {
   "cell_type": "markdown",
   "metadata": {
    "id": "tPF4yUznWgSV"
   },
   "source": [
    "## Arbitrary Keyword Arguments\n",
    "\n",
    "If the number of keyword arguments is unknown, use `**kwargs`. Arguments are then available for use inside the function in the form of a dictionary."
   ]
  },
  {
   "cell_type": "code",
   "execution_count": null,
   "metadata": {
    "colab": {
     "base_uri": "https://localhost:8080/"
    },
    "id": "pI9zh0oFWwcC",
    "outputId": "13e97816-2585-4c7c-fcbd-43c9622fb4b9"
   },
   "outputs": [
    {
     "name": "stdout",
     "output_type": "stream",
     "text": [
      "I need to buy 5 oranges, 10 apples and 3 stethoscopes\n"
     ]
    }
   ],
   "source": [
    "def go_shopping(**kwargs):\n",
    "  print(f\"I need to buy {kwargs['oranges']} oranges, {kwargs['apples']} apples and {kwargs['stethoscopes']} stethoscopes\")\n",
    "\n",
    "go_shopping(oranges=5, apples=10, stethoscopes=3)"
   ]
  },
  {
   "cell_type": "markdown",
   "metadata": {
    "id": "rzwAv55UXSfd"
   },
   "source": [
    "## Default Parameter Value\n",
    "\n",
    "We can add default values to be used for parameters, in case corresponding arguments are not passed to the function. Place default parameters after the required parameters.\n",
    "\n"
   ]
  },
  {
   "cell_type": "code",
   "execution_count": null,
   "metadata": {
    "colab": {
     "base_uri": "https://localhost:8080/"
    },
    "id": "dPZHgSIiXckn",
    "outputId": "91a4bf1f-8651-4797-c9b0-e1ba77255dc4"
   },
   "outputs": [
    {
     "name": "stdout",
     "output_type": "stream",
     "text": [
      "Good morning, Alice!\n",
      "Hello, Bob!\n"
     ]
    }
   ],
   "source": [
    "# An example of default parameter values in functions\n",
    "\n",
    "def greet(name, message=\"Hello\"):\n",
    "  \"\"\"\n",
    "  This function greets a person with a given message.\n",
    "  If no message is provided, it defaults to \"Hello\".\n",
    "  \"\"\"\n",
    "  print(f\"{message}, {name}!\")\n",
    "\n",
    "# Call the function with a custom message\n",
    "greet(\"Alice\", \"Good morning\")\n",
    "\n",
    "# Call the function with the default message\n",
    "greet(\"Bob\")\n"
   ]
  },
  {
   "cell_type": "markdown",
   "metadata": {
    "id": "D0sERkFZYQO5"
   },
   "source": [
    "## Position-only arguments\n",
    "\n",
    "A function can be specified to only accept positional arguments. In this case, you cannot pass keyword arguments using the `key=value` syntax.\n",
    "\n"
   ]
  },
  {
   "cell_type": "code",
   "execution_count": null,
   "metadata": {
    "colab": {
     "base_uri": "https://localhost:8080/"
    },
    "id": "qYCN651dYgdc",
    "outputId": "c7b900d5-dd3a-46bf-cd84-c118bed26b42"
   },
   "outputs": [
    {
     "name": "stdout",
     "output_type": "stream",
     "text": [
      "8\n"
     ]
    }
   ],
   "source": [
    "def calculate_sum(a, b, /):\n",
    "  \"\"\"\n",
    "  This function calculates the sum of two numbers.\n",
    "  'a' and 'b' are positional-only arguments.\n",
    "  \"\"\"\n",
    "  return a + b\n",
    "\n",
    "# Call the function with positional arguments\n",
    "result = calculate_sum(5, 3)\n",
    "print(result)  # Output: 8\n",
    "\n",
    "# This will raise an error because we're trying to use keyword arguments\n",
    "# result = calculate_sum(a=5, b=3)\n"
   ]
  },
  {
   "cell_type": "markdown",
   "metadata": {
    "id": "_ZyzeUkyY7Oy"
   },
   "source": [
    "## Keyword-only arguments\n",
    "\n",
    "We can also set a function to only accept keyword arguments."
   ]
  },
  {
   "cell_type": "code",
   "execution_count": null,
   "metadata": {
    "colab": {
     "base_uri": "https://localhost:8080/"
    },
    "id": "uW2Ema1sZHsA",
    "outputId": "c79c8e50-d9f3-424f-dd6c-0f7613accb3b"
   },
   "outputs": [
    {
     "name": "stdout",
     "output_type": "stream",
     "text": [
      "a: 1, b: 2, c: 3, d: 4\n",
      "a: 1, b: 2, c: 3, d: 4\n"
     ]
    }
   ],
   "source": [
    "def my_function(a, b, /, c, *, d):\n",
    "  \"\"\"\n",
    "  This function demonstrates position-only and keyword-only arguments.\n",
    "\n",
    "  Args:\n",
    "    a: Positional-only argument.\n",
    "    b: Positional-only argument.\n",
    "    c: Can be passed positionally or as a keyword argument.\n",
    "    d: Keyword-only argument.\n",
    "  \"\"\"\n",
    "  print(f\"a: {a}, b: {b}, c: {c}, d: {d}\")\n",
    "\n",
    "# Call the function with both positional and keyword arguments\n",
    "my_function(1, 2, 3, d=4)\n",
    "my_function(1, 2, c=3, d=4)\n"
   ]
  },
  {
   "cell_type": "markdown",
   "metadata": {
    "id": "eO289-cEaGMG"
   },
   "source": [
    "# Python Lambda\n",
    "\n",
    "* Functions written in 1 line using the lambda keyword. They can accept any number of arguments, but only have one expression.\n",
    "\n",
    "* Think of it as a shortcut. It is used for a short period of time, after which it is \"discarded\".\n",
    "\n",
    "Usage:\n",
    "\n",
    "`lambda parameters : expression`"
   ]
  },
  {
   "cell_type": "code",
   "execution_count": 2,
   "metadata": {},
   "outputs": [
    {
     "name": "stdout",
     "output_type": "stream",
     "text": [
      "10\n"
     ]
    }
   ],
   "source": [
    "def double(x):\n",
    "    return x * 2\n",
    "\n",
    "print(double(5))"
   ]
  },
  {
   "cell_type": "markdown",
   "metadata": {},
   "source": [
    "Alternatively, we can do the following -"
   ]
  },
  {
   "cell_type": "code",
   "execution_count": 4,
   "metadata": {},
   "outputs": [
    {
     "name": "stdout",
     "output_type": "stream",
     "text": [
      "10\n"
     ]
    }
   ],
   "source": [
    "double = lambda x : x * 2\n",
    "print(double(5))"
   ]
  },
  {
   "cell_type": "code",
   "execution_count": 5,
   "metadata": {},
   "outputs": [
    {
     "name": "stdout",
     "output_type": "stream",
     "text": [
      "1024\n"
     ]
    }
   ],
   "source": [
    "exp = lambda a, b : a ** b\n",
    "print(exp(4, 5))"
   ]
  },
  {
   "cell_type": "markdown",
   "metadata": {},
   "source": [
    "# Advanced Python\n",
    "\n",
    "## Iterators\n",
    "\n",
    "Iterators are methods that can iterate over containers. An **iterator object** must be implemented using the iterator protocol - which states that we need to implement two special methods - `__iter()__` and `__next()__`"
   ]
  },
  {
   "cell_type": "code",
   "execution_count": null,
   "metadata": {},
   "outputs": [],
   "source": []
  },
  {
   "cell_type": "markdown",
   "metadata": {},
   "source": [
    "## Generators\n",
    "\n",
    "Generators are functions that return iterators that can be used to produce a sequence of values when iterated over. Generators help in saving memory because the sequence of values does not need to be stored in memory.\n"
   ]
  },
  {
   "cell_type": "code",
   "execution_count": 5,
   "metadata": {},
   "outputs": [
    {
     "name": "stdout",
     "output_type": "stream",
     "text": [
      "[1, 4, 9, 16, 25]\n",
      "1\n",
      "4\n",
      "9\n",
      "16\n",
      "25\n"
     ]
    }
   ],
   "source": [
    "def square_numbers(n):\n",
    "    result = []\n",
    "    for i in range(1, n+1):\n",
    "        result.append(i*i)\n",
    "    return result\n",
    "\n",
    "print(square_numbers(5))\n",
    "\n",
    "# Equivalently\n",
    "\n",
    "def square_numbers(n):\n",
    "    for i in range(1, n+1):\n",
    "        yield(i*i)\n",
    "\n",
    "result = square_numbers(5)\n",
    "for n in result:\n",
    "    print(n)"
   ]
  },
  {
   "cell_type": "markdown",
   "metadata": {},
   "source": [
    "With each iteration over the object result, the next value in the sequence we generated will be stored and printed. This is very memory efficient, since the entire result is not technically stored in memory, but rather instructions to produce the next value in the sequence are.\n",
    "\n",
    "We can also use comprehension to make a generator object."
   ]
  },
  {
   "cell_type": "code",
   "execution_count": 7,
   "metadata": {},
   "outputs": [
    {
     "name": "stdout",
     "output_type": "stream",
     "text": [
      "<generator object <genexpr> at 0x000001EBBC8F5700>\n",
      "1\n",
      "4\n",
      "9\n",
      "16\n",
      "25\n"
     ]
    }
   ],
   "source": [
    "upper_limit = 6\n",
    "result = (n*n for n in range(1, upper_limit)) # Use parentheses using comprehension to make a generator\n",
    "print(result)\n",
    "\n",
    "# Then we can iterate over the generator object\n",
    "for r in result:\n",
    "    print(r)"
   ]
  },
  {
   "cell_type": "code",
   "execution_count": 3,
   "metadata": {
    "scrolled": true
   },
   "outputs": [
    {
     "name": "stdout",
     "output_type": "stream",
     "text": [
      "Memory before listing: [305.40234375]Mb\n",
      "Trying to generate list...\n",
      "Memory after listing: [305.28515625]Mb\n",
      "Making list took 1.0092153549194336 seconds\n",
      "Memory before generating: [305.2890625]Mb\n",
      "Memory after generating: [305.2890625]Mb\n",
      "Generating took 0.0 seconds\n"
     ]
    }
   ],
   "source": [
    "import random\n",
    "import time\n",
    "import memory_profiler as mem_profile\n",
    "\n",
    "names = ['Jim', 'Pam', 'Michael', 'Dwight', 'Angela', 'Kevin', 'Oscar', 'Meredith']\n",
    "department = ['Quality Assurance', 'Sales', 'Reception', 'Customer Service', 'Packaging and Shipping', 'Accounting', 'Supplier Relations']\n",
    "\n",
    "def people_list(num_people):\n",
    "    result = []\n",
    "    for n in range(num_people):\n",
    "        person = {\n",
    "            'id' : n,\n",
    "            'name' : random.choice(names),\n",
    "            'department': random.choice(department)\n",
    "        }\n",
    "        result.append(person)\n",
    "    return result\n",
    "\n",
    "def people_generator(num_people):\n",
    "    for n in num_people:\n",
    "        person = {\n",
    "            'id' : n,\n",
    "            'name' : random.choice(names),\n",
    "            'department': random.choice(department)\n",
    "        }\n",
    "        yield(person)\n",
    "\n",
    "print('Memory before listing: {}Mb'.format(mem_profile.memory_usage()))\n",
    "print('Trying to generate list...')\n",
    "start = time.time()\n",
    "office_list = people_list(1000000)\n",
    "end = time.time()\n",
    "print('Memory after listing: {}Mb'.format(mem_profile.memory_usage()))\n",
    "print('Making list took {} seconds'.format(end - start))\n",
    "\n",
    "print('Memory before generating: {}Mb'.format(mem_profile.memory_usage()))\n",
    "start = time.time()\n",
    "office_gen = people_generator(10000000)\n",
    "end = time.time()\n",
    "print('Memory after generating: {}Mb'.format(mem_profile.memory_usage()))\n",
    "print('Generating took {} seconds'.format(end - start))"
   ]
  },
  {
   "cell_type": "markdown",
   "metadata": {},
   "source": [
    "# Classes & Objects\n",
    "\n",
    "* Classes are blueprints for user-defined data types.\n",
    "\n",
    "* Objects are instances of classes"
   ]
  },
  {
   "cell_type": "code",
   "execution_count": 23,
   "metadata": {},
   "outputs": [
    {
     "name": "stdout",
     "output_type": "stream",
     "text": [
      "<__main__.Employee object at 0x10816b5e0>\n",
      "John.Smith@company.com\n"
     ]
    }
   ],
   "source": [
    "class Employee:\n",
    "    \n",
    "    def __init__(self, first, last, pay):\n",
    "        self.first = first\n",
    "        self.last = last\n",
    "        self.pay = pay\n",
    "        self.email = f\"{first}.{last}@company.com\"\n",
    "\n",
    "e1 = Employee(\"John\", \"Smith\", 50000)\n",
    "print(e1)\n",
    "print(e1.email)"
   ]
  },
  {
   "cell_type": "markdown",
   "metadata": {},
   "source": [
    "Class variables define an object's properties - all the attributes it is supposed to have (what it is) whereas class methods or member methods define an object's behaviour (what it can do). "
   ]
  },
  {
   "cell_type": "code",
   "execution_count": 28,
   "metadata": {},
   "outputs": [
    {
     "name": "stdout",
     "output_type": "stream",
     "text": [
      "John Smith,\n",
      "john.smith@company.com,\n",
      "50000\n"
     ]
    }
   ],
   "source": [
    "class Employee:\n",
    "    \n",
    "    def __init__(self, first, last, pay):\n",
    "        self.first = first\n",
    "        self.last = last\n",
    "        self.pay = pay\n",
    "        self.email = f\"{first.lower()}.{last.lower()}@company.com\"\n",
    "    \n",
    "    def __repr__(self):\n",
    "        return f\"{self.first} {self.last},\\n{self.email},\\n{self.pay}\"\n",
    "    \n",
    "    def give_raise(self, bonus):\n",
    "        self.pay += self.pay * (bonus / 100)\n",
    "\n",
    "e1 = Employee(\"John\", \"Smith\", 50000)\n",
    "print(e1)"
   ]
  },
  {
   "cell_type": "markdown",
   "metadata": {},
   "source": [
    "Methods can be called using two ways - one way which is the more prevalent one using the following syntax -\n",
    "\n",
    "`<obj_name>.<method_name>()`\n",
    "\n",
    "The second one does the exact same thing but provides more insight into the `self` parameter in methods -\n",
    "\n",
    "`<class_name>.<method_name>(<object_name>)`"
   ]
  },
  {
   "cell_type": "code",
   "execution_count": 32,
   "metadata": {},
   "outputs": [
    {
     "name": "stdout",
     "output_type": "stream",
     "text": [
      "John Smith,\n",
      "john.smith@company.com,\n",
      "50000.00\n",
      "John Smith,\n",
      "john.smith@company.com,\n",
      "57500.00\n"
     ]
    }
   ],
   "source": [
    "class Employee:\n",
    "    \n",
    "    def __init__(self, first, last, pay):\n",
    "        self.first = first\n",
    "        self.last = last\n",
    "        self.pay = pay\n",
    "        self.email = f\"{first.lower()}.{last.lower()}@company.com\"\n",
    "    \n",
    "    def __repr__(self):\n",
    "        return f\"{self.first} {self.last},\\n{self.email},\\n{self.pay:.2f}\"\n",
    "    \n",
    "    def give_raise(self, bonus):\n",
    "        self.pay += self.pay * (bonus / 100)\n",
    "\n",
    "e1 = Employee(\"John\", \"Smith\", 50000)\n",
    "print(e1)\n",
    "# e1.give_raise(15)\n",
    "# print(e1)\n",
    "\n",
    "# Alternatively\n",
    "Employee.give_raise(e1, 15)\n",
    "print(e1)"
   ]
  },
  {
   "cell_type": "markdown",
   "metadata": {},
   "source": [
    "## Class Variables\n",
    "\n",
    "Variables defined inside the class constructor (attributes/instance variables) belong to the instance that they're associated with. Class variables are variables that belong to the class, and as such, can be accessed by all instances. However, they must be accessed using the class or an instance of the class."
   ]
  },
  {
   "cell_type": "code",
   "execution_count": 45,
   "metadata": {},
   "outputs": [
    {
     "name": "stdout",
     "output_type": "stream",
     "text": [
      "John Smith,\n",
      "john.smith@company.com,\n",
      "$ 50,000.00\n",
      "John Smith,\n",
      "john.smith@company.com,\n",
      "$ 57,500.00\n"
     ]
    }
   ],
   "source": [
    "class Employee:\n",
    "    \n",
    "    raise_percent = 1.15\n",
    "    \n",
    "    def __init__(self, first, last, pay):\n",
    "        self.first = first\n",
    "        self.last = last\n",
    "        self.pay = pay\n",
    "        self.email = f\"{first.lower()}.{last.lower()}@company.com\"\n",
    "    \n",
    "    def __repr__(self):\n",
    "        return f\"{self.first} {self.last},\\n{self.email},\\n$ {self.pay:,.2f}\"\n",
    "    \n",
    "    def give_raise(self):\n",
    "        self.pay *= Employee.raise_percent\n",
    "#         Also correct\n",
    "#         self.pay *= self.raise_percent\n",
    "\n",
    "e1 = Employee(\"John\", \"Smith\", 50000)\n",
    "print(e1)\n",
    "e1.give_raise()\n",
    "print(e1)\n"
   ]
  },
  {
   "cell_type": "markdown",
   "metadata": {},
   "source": [
    "However, there are certain nuances to accessing a class variable through the class name and through an instance of the class. \n",
    "\n",
    "* When accessing the class variable through an instance, it first looks for a variable with that name in the namespace of the instance (use `__dict__` member variable to check the namespace of the instance). If it can't find a variable of that name, it checks the class' namespace."
   ]
  },
  {
   "cell_type": "code",
   "execution_count": 54,
   "metadata": {},
   "outputs": [
    {
     "name": "stdout",
     "output_type": "stream",
     "text": [
      "Raise for Employee is 1.04\n",
      "Raise for John is 1.04\n",
      "Raise for Jane is 1.04\n",
      "Raise for Employee is 1.04\n",
      "Raise for John is 1.10\n",
      "Raise for Jane is 1.04\n"
     ]
    }
   ],
   "source": [
    "class Employee:\n",
    "    \n",
    "    raise_percent = 1.15\n",
    "    \n",
    "    def __init__(self, first, last, pay):\n",
    "        self.first = first\n",
    "        self.last = last\n",
    "        self.pay = pay\n",
    "        self.email = f\"{first.lower()}.{last.lower()}@company.com\"\n",
    "    \n",
    "    def __repr__(self):\n",
    "        return f\"{self.first} {self.last},\\n{self.email},\\n$ {self.pay:,.2f}\"\n",
    "    \n",
    "    def give_raise(self):\n",
    "        self.pay *= Employee.raise_percent\n",
    "#         Also correct\n",
    "#         self.pay *= self.raise_percent\n",
    "\n",
    "e1 = Employee(\"John\", \"Smith\", 50000)\n",
    "e2 = Employee(\"Jane\", \"Smith\", 100000)\n",
    "\n",
    "# Trying to modify the raise_percent using class name\n",
    "\n",
    "Employee.raise_percent = 1.04\n",
    "print('Raise for Employee is {0.raise_percent:.2f}'.format(Employee))\n",
    "print('Raise for {0.first} is {0.raise_percent:.2f}'.format(e1))\n",
    "print('Raise for {0.first} is {0.raise_percent:.2f}'.format(e2))\n",
    "\n",
    "# Trying to modify the raise_percent using instance name\n",
    "e1.raise_percent = 1.10\n",
    "print('Raise for Employee is {0.raise_percent:.2f}'.format(Employee))\n",
    "print('Raise for {0.first} is {0.raise_percent:.2f}'.format(e1))\n",
    "print('Raise for {0.first} is {0.raise_percent:.2f}'.format(e2))"
   ]
  },
  {
   "cell_type": "markdown",
   "metadata": {},
   "source": [
    "When we changed the raise percent for employee 1, it created a new member variable associated with e1 and assigned it to raise_percent. At that point, when accessing raise percent through e1, it is no longer a class variable. However, if accessed through the class name or through any other instance, it will still be a class varaible. \n",
    "\n",
    "A basic rule of thumb is -\n",
    "\n",
    "* If an attribute might change with different instances but stays mostly the same for most instances, access it through the instance `self`.\n",
    "\n",
    "* If an attribute absolutely has to stay the same for ALL instances of the class, it must only be accessed through the class name."
   ]
  },
  {
   "cell_type": "markdown",
   "metadata": {},
   "source": [
    "## Class Methods\n",
    "\n",
    "Class methods "
   ]
  },
  {
   "cell_type": "markdown",
   "metadata": {},
   "source": [
    "## Inheritance\n",
    "\n",
    "When we have several different classes which have mostly the same structure, i.e. similar attributes and behaviour, we can make a central class (the superclass) and make most of our other similar classes inherit attributes and behaviour from the superclass. This establishes a superclass - subclass heirarchy.\n",
    "\n",
    "Usage:\n",
    "\n",
    "`class <subclass_name> (<superclass_name>):`"
   ]
  },
  {
   "cell_type": "code",
   "execution_count": 62,
   "metadata": {},
   "outputs": [
    {
     "name": "stdout",
     "output_type": "stream",
     "text": [
      "Hello, I am Sprinkles and I am 12 years old.\n",
      "Hello, I am Scooby Do and I am 4 years old.\n",
      "Sprinkles says meow.\n",
      "Scooby Do says bark.\n"
     ]
    }
   ],
   "source": [
    "class Pet:\n",
    "    def __init__(self, name, age):\n",
    "        self.name = name\n",
    "        self.age = age\n",
    "        \n",
    "    def show(self):\n",
    "        print(\"Hello, I am {0.name} and I am {0.age} years old.\".format(self))\n",
    "\n",
    "class Gato(Pet):\n",
    "    def speak(self):\n",
    "        print(\"{0.name} says meow.\".format(self))\n",
    "\n",
    "class Perro(Pet):\n",
    "    def speak(self):\n",
    "        print(\"{0.name} says bark.\".format(self))\n",
    "\n",
    "sprinkles = Gato(\"Sprinkles\", 12)\n",
    "scooby = Perro(\"Scooby Do\", 4)\n",
    "\n",
    "sprinkles.show()\n",
    "scooby.show()\n",
    "sprinkles.speak()\n",
    "scooby.speak()"
   ]
  },
  {
   "cell_type": "markdown",
   "metadata": {},
   "source": [
    "What happens if we want our subclasses to have some attributes unique to them, in addition to the attributes that they inherit from their superclass?\n",
    "\n",
    "Let's assume that we now also want to include a colour for our cats, but not for the dogs. In this case, we need to write a separate constructor for the class `Gato`"
   ]
  },
  {
   "cell_type": "code",
   "execution_count": 65,
   "metadata": {},
   "outputs": [],
   "source": [
    "class Pet:\n",
    "    def __init__(self, name, age):\n",
    "        self.name = name\n",
    "        self.age = age\n",
    "        \n",
    "    def show(self):\n",
    "        print(\"Hello, I am {0.name} and I am {0.age} years old.\".format(self))\n",
    "\n",
    "class Gato(Pet):\n",
    "    def __init__(self, name, age, colour): # Include the inherited properties, then the unique properties\n",
    "        super().__init__(name, age) # Invoke the super constructor to set inherited properties\n",
    "        self.colour = colour # set the attributes unique to the subclass\n",
    "    \n",
    "    def speak(self):\n",
    "        print(\"{0.name} says meow.\".format(self))\n",
    "\n",
    "class Perro(Pet):\n",
    "    def speak(self):\n",
    "        print(\"{0.name} says bark.\".format(self))\n",
    "\n",
    "sprinkles = Gato(\"Sprinkles\", 12, \"Ginger\")"
   ]
  },
  {
   "cell_type": "markdown",
   "metadata": {},
   "source": [
    "## Special/Dunder Methods\n",
    "\n",
    "Special methods can be used to implement operator overloading. These methods are always surrounded by `__` a double underscore. For example `__init(self)__` and `__repr()__` and `__str()__`.\n",
    "\n",
    "`repr()` is supposed to be for other developers - a readable representation that can help with debugging and logging.\n",
    "\n",
    "`str()` is supposed to be more for the user.\n",
    "\n",
    "An example of how we can implement operator overloading using dunder methods-"
   ]
  },
  {
   "cell_type": "code",
   "execution_count": 1,
   "metadata": {
    "collapsed": true,
    "jupyter": {
     "outputs_hidden": true
    },
    "scrolled": true
   },
   "outputs": [
    {
     "ename": "SyntaxError",
     "evalue": "incomplete input (3973088818.py, line 2)",
     "output_type": "error",
     "traceback": [
      "\u001b[0;36m  Cell \u001b[0;32mIn [1], line 2\u001b[0;36m\u001b[0m\n\u001b[0;31m    def __init__(self, x, y):\u001b[0m\n\u001b[0m                             ^\u001b[0m\n\u001b[0;31mSyntaxError\u001b[0m\u001b[0;31m:\u001b[0m incomplete input\n"
     ]
    }
   ],
   "source": [
    "class Point:\n",
    "    def __init__(self, x, y):\n",
    "        self.x = x\n",
    "        self.y = y\n",
    "    "
   ]
  },
  {
   "cell_type": "markdown",
   "metadata": {},
   "source": [
    "## Decorators\n",
    "\n",
    "### Aside: Closures\n",
    "\n",
    "Closures are functions that are used to contain other functions. This functionality comes in handy when we deal with modules that need to be moved around in a Python project. In the code below, let's assume that we have a function that adds numbers to an internally-maintained list."
   ]
  },
  {
   "cell_type": "code",
   "execution_count": null,
   "metadata": {},
   "outputs": [],
   "source": [
    "def add_numbers(n):\n",
    "    nums = []\n",
    "    nums.append(n)\n",
    "    return n\n"
   ]
  },
  {
   "cell_type": "markdown",
   "metadata": {},
   "source": [
    "Each time `add_numbers(n)` is called, a new list called `nums` is created and the number is added to it. There is no way to cumulatively add numbers to this list inside. We can use a global variable and keep appending data to it, but that means that if we were to import this module into another file, we would have to somehow also include the global list. \n",
    "\n",
    "A solution to this is a closure - essentially a nested function. Essentially, data (in this case the list) is declared in the outer function and all the functionality is provided in the inner enclosed function. In Python, the inner function actually keeps track of and has access to all the functions that are declared in the outer function, even after the outer funtion has finished executing!"
   ]
  },
  {
   "cell_type": "code",
   "execution_count": 10,
   "metadata": {},
   "outputs": [
    {
     "name": "stdout",
     "output_type": "stream",
     "text": [
      "[0]\n",
      "[0, 1]\n",
      "[0, 1, 2]\n",
      "[0, 1, 2, 3]\n",
      "[0, 1, 2, 3, 4]\n",
      "[0, 1, 2, 3, 4, 5]\n",
      "[0, 1, 2, 3, 4, 5, 6]\n",
      "[0, 1, 2, 3, 4, 5, 6, 7]\n",
      "[0, 1, 2, 3, 4, 5, 6, 7, 8]\n",
      "[0, 1, 2, 3, 4, 5, 6, 7, 8, 9]\n"
     ]
    }
   ],
   "source": [
    "def add_nums_wrapper():\n",
    "    nums = []\n",
    "    def add_nums(n):\n",
    "        nums.append(n)\n",
    "        print(nums)\n",
    "    return add_nums\n",
    "\n",
    "add_nums = add_nums_wrapper()\n",
    "for n in range(10):\n",
    "    add_nums(n)"
   ]
  },
  {
   "cell_type": "markdown",
   "metadata": {},
   "source": [
    "A few things to note - the outer function must return a reference to the inner function. When actually calling the function,\n",
    "\n",
    "1. We first need to call the outer function to get the returned reference to the inner function.\n",
    "2. This reference can then be used to achieve our original functionality of creating a cumulative list.\n",
    "\n",
    "We say that the inner function **closes over** the outer function.\n",
    "\n",
    "**A \"Recipe\" for a Closure**\n",
    "\n",
    "We require three things - \n",
    "1. A containing outer function - something that can provide the basis for creating scope to keep track of the state variable.\n",
    "2. Some state variables - something that we would like to build upon over further function calls.\n",
    "3. Inner function - to implement the required functionality.\n",
    "\n",
    "We can also convert this into a class."
   ]
  },
  {
   "cell_type": "code",
   "execution_count": 15,
   "metadata": {
    "scrolled": true
   },
   "outputs": [
    {
     "name": "stdout",
     "output_type": "stream",
     "text": [
      "None\n",
      "[0]\n",
      "[0, 1]\n",
      "[0, 1, 2]\n",
      "[0, 1, 2, 3]\n",
      "[0, 1, 2, 3, 4]\n",
      "[0, 1, 2, 3, 4, 5]\n",
      "[0, 1, 2, 3, 4, 5, 6]\n",
      "[0, 1, 2, 3, 4, 5, 6, 7]\n",
      "[0, 1, 2, 3, 4, 5, 6, 7, 8]\n",
      "[0, 1, 2, 3, 4, 5, 6, 7, 8, 9]\n",
      "9\n",
      "[0, 1, 2, 3, 4, 5, 6, 7, 8]\n"
     ]
    }
   ],
   "source": [
    "# The containing outer function becomes a class\n",
    "class AddNumber:\n",
    "# The state variable becomes a class variable\n",
    "    nums = []\n",
    "    def add_nums(self, n):\n",
    "        self.nums.append(n)\n",
    "        print(self.nums)\n",
    "\n",
    "    def pop(self):\n",
    "        if self.nums:\n",
    "            return self.nums.pop()\n",
    "        return None\n",
    "    \n",
    "list1 = AddNumber()\n",
    "print(list1.pop())\n",
    "for n in range(10):\n",
    "    list1.add_nums(n)\n",
    "print(list1.pop())\n",
    "print(list1.nums)"
   ]
  },
  {
   "cell_type": "markdown",
   "metadata": {},
   "source": [
    "# Virtual Environments\n",
    "\n",
    "To manage different dependencies and to keep separate projects 'contained' in their own environments, we can use virtual environments.\n",
    "\n",
    "Let's say that an application runs using Django 5.0. When Django is updated to, say, Django 5.1, the application might break!\n",
    "\n",
    "To prevent this, use virtual environments. "
   ]
  },
  {
   "cell_type": "markdown",
   "metadata": {},
   "source": [
    "# Working with CSV Data\n",
    "\n",
    "Comma Separated Values are used to store data which can be parsed in Python programs using different libraries. The most useful and straightforward is the `pandas` library which is used for several different types of data parsing and manipulation."
   ]
  },
  {
   "cell_type": "code",
   "execution_count": 2,
   "metadata": {},
   "outputs": [
    {
     "name": "stdout",
     "output_type": "stream",
     "text": [
      "['day,temp,condition', 'Monday,12,Sunny', 'Tuesday,14,Rain', 'Wednesday,15,Rain', 'Thursday,14,Cloudy', 'Friday,21,Sunny', 'Saturday,22,Sunny', 'Sunday,24,Sunny']\n"
     ]
    }
   ],
   "source": [
    "file_name = \"./weather_data.csv\"\n",
    "data = []\n",
    "with open(file_name, 'r') as f:\n",
    "    data = f.readlines()\n",
    "table = [row.rstrip('\\n') for row in data]\n",
    "print(table)"
   ]
  },
  {
   "cell_type": "code",
   "execution_count": 5,
   "metadata": {},
   "outputs": [
    {
     "name": "stdout",
     "output_type": "stream",
     "text": [
      "['day', 'temp', 'condition']\n",
      "['Monday', '12', 'Sunny']\n",
      "['Tuesday', '14', 'Rain']\n",
      "['Wednesday', '15', 'Rain']\n",
      "['Thursday', '14', 'Cloudy']\n",
      "['Friday', '21', 'Sunny']\n",
      "['Saturday', '22', 'Sunny']\n",
      "['Sunday', '24', 'Sunny']\n"
     ]
    }
   ],
   "source": [
    "# Using csv\n",
    "import csv\n",
    "file_name = \"./weather_data.csv\"\n",
    "\n",
    "with open(file_name, 'r') as f:\n",
    "    table = csv.reader(f)\n",
    "\n",
    "    for row in table:\n",
    "        print(row)"
   ]
  },
  {
   "cell_type": "code",
   "execution_count": 3,
   "metadata": {},
   "outputs": [
    {
     "name": "stdout",
     "output_type": "stream",
     "text": [
      "0    12\n",
      "1    14\n",
      "2    15\n",
      "3    14\n",
      "4    21\n",
      "5    22\n",
      "6    24\n",
      "Name: temp, dtype: int64\n"
     ]
    }
   ],
   "source": [
    "# using pandas\n",
    "\n",
    "import pandas\n",
    "file_name = \"./weather_data.csv\"\n",
    "\n",
    "data = pandas.read_csv(file_name)\n",
    "print(data[\"temp\"])"
   ]
  },
  {
   "cell_type": "code",
   "execution_count": 10,
   "metadata": {},
   "outputs": [
    {
     "name": "stdout",
     "output_type": "stream",
     "text": [
      "{'day': {0: 'Monday', 1: 'Tuesday', 2: 'Wednesday', 3: 'Thursday', 4: 'Friday', 5: 'Saturday', 6: 'Sunday'}, 'temp': {0: 12, 1: 14, 2: 15, 3: 14, 4: 21, 5: 22, 6: 24}, 'condition': {0: 'Sunny', 1: 'Rain', 2: 'Rain', 3: 'Cloudy', 4: 'Sunny', 5: 'Sunny', 6: 'Sunny'}}\n",
      "[12, 14, 15, 14, 21, 22, 24]\n",
      "17.428571428571427\n"
     ]
    }
   ],
   "source": [
    "import pandas\n",
    "file_name = \"./weather_data.csv\"\n",
    "\n",
    "table = pandas.read_csv(file_name)\n",
    "\n",
    "table_dict = table.to_dict()\n",
    "# print(table_dict)\n",
    "print(table_dict)\n",
    "\n",
    "table_list = table.temp.to_list()\n",
    "print(table_list)\n",
    "\n",
    "print(sum(table_list)/len(table_list))"
   ]
  },
  {
   "cell_type": "markdown",
   "metadata": {},
   "source": [
    "# Beautiful Soup - Web scraping\n",
    "\n",
    "Web scraping is a way to extract information from web pages. The Beautiful Soup module helps with that.\n",
    "\n",
    "A BeautifulSoup object contains the contents of an HTML document converted into a Python nested file structure."
   ]
  },
  {
   "cell_type": "code",
   "execution_count": 16,
   "metadata": {},
   "outputs": [
    {
     "name": "stdout",
     "output_type": "stream",
     "text": [
      "<a href=\"https://www.appbrewery.co/\">The App Brewery</a>\n",
      "<a href=\"https://angelabauer.github.io/cv/hobbies.html\">My Hobbies</a>\n",
      "<a href=\"https://angelabauer.github.io/cv/contact-me.html\">Contact Me</a>\n"
     ]
    }
   ],
   "source": [
    "from bs4 import BeautifulSoup\n",
    "\n",
    "HTML_FILE = \"./PyProjects/BeautySoup/index.html\"\n",
    "\n",
    "with open(HTML_FILE) as file:\n",
    "    soup = BeautifulSoup(file, 'html.parser')\n",
    "    a_list = soup.find_all(name=\"a\")\n",
    "    for a in a_list:\n",
    "        print(a)"
   ]
  },
  {
   "cell_type": "markdown",
   "metadata": {},
   "source": [
    "## Tag Objects\n",
    "\n",
    "A tag object can be used to access different tags in the html document.\n",
    "\n",
    "It can have the following attributes - \n",
    "\n",
    "* Name - accessed using the name property, can also be modified, and the rest of the soup reflects these changes.\n",
    "* Attributes - accessed by treating the tag name as a dictionary."
   ]
  },
  {
   "cell_type": "code",
   "execution_count": 17,
   "metadata": {},
   "outputs": [
    {
     "name": "stdout",
     "output_type": "stream",
     "text": [
      "https://www.appbrewery.co/\n",
      "https://www.appbrewery.co/\n"
     ]
    }
   ],
   "source": [
    "from bs4 import BeautifulSoup\n",
    "\n",
    "HTML_FILE = \"./PyProjects/BeautySoup/index.html\"\n",
    "\n",
    "with open(HTML_FILE) as file:\n",
    "    soup = BeautifulSoup(file, 'html.parser')\n",
    "    tag = soup.a # Only the first 'a' tag in the html doc is returned this way\n",
    "    print(tag['href'])"
   ]
  },
  {
   "cell_type": "code",
   "execution_count": null,
   "metadata": {},
   "outputs": [],
   "source": []
  }
 ],
 "metadata": {
  "colab": {
   "provenance": []
  },
  "kernelspec": {
   "display_name": "Python 3 (ipykernel)",
   "language": "python",
   "name": "python3"
  },
  "language_info": {
   "codemirror_mode": {
    "name": "ipython",
    "version": 3
   },
   "file_extension": ".py",
   "mimetype": "text/x-python",
   "name": "python",
   "nbconvert_exporter": "python",
   "pygments_lexer": "ipython3",
   "version": "3.10.14"
  }
 },
 "nbformat": 4,
 "nbformat_minor": 4
}
